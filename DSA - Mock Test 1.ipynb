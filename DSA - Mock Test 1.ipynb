{
 "cells": [
  {
   "cell_type": "markdown",
   "id": "f9ff00a9",
   "metadata": {},
   "source": [
    "Move Zeroes:\n",
    "\n",
    "Given an integer array nums, move all 0's to the end of it while maintaining the relative order of the non-zero elements.\n",
    "\n",
    "Note that you must do this in-place without making a copy of the array.\n",
    "\n",
    "Example 1:\n",
    "Input: nums = [0,1,0,3,12]\n",
    "Output: [1,3,12,0,0]\n",
    "\n",
    "Example 2:\n",
    "Input: nums = [0]\n",
    "Output: [0]\n",
    "\n",
    "Constraints:\n",
    "a. 1 <= nums.length <= 10^4\n",
    "b. -2^31 <= nums[i] <= 2^31 - 1"
   ]
  },
  {
   "cell_type": "code",
   "execution_count": 1,
   "id": "337a3625",
   "metadata": {},
   "outputs": [
    {
     "name": "stdout",
     "output_type": "stream",
     "text": [
      "[1, 3, 12, 0, 0]\n",
      "[0]\n"
     ]
    }
   ],
   "source": [
    "def moveZeroes(nums):\n",
    "    # Initialize two pointers: one for the current element and another for the last non-zero element\n",
    "    current = 0\n",
    "    lastNonZero = 0\n",
    "\n",
    "    # Iterate through the array\n",
    "    while current < len(nums):\n",
    "        # If the current element is non-zero, swap it with the last non-zero element and update the last non-zero pointer\n",
    "        if nums[current] != 0:\n",
    "            nums[current], nums[lastNonZero] = nums[lastNonZero], nums[current]\n",
    "            lastNonZero += 1\n",
    "\n",
    "        current += 1\n",
    "\n",
    "# Test the function with the given examples\n",
    "nums1 = [0, 1, 0, 3, 12]\n",
    "moveZeroes(nums1)\n",
    "print(nums1)\n",
    "\n",
    "nums2 = [0]\n",
    "moveZeroes(nums2)\n",
    "print(nums2)"
   ]
  },
  {
   "cell_type": "markdown",
   "id": "ce7f122a",
   "metadata": {},
   "source": [
    "First Unique Character in a String:\n",
    "\n",
    "Given a string s, find the first non-repeating character in it and return its index. If it does not exist, return -1.\n",
    "\n",
    "Example 1:\n",
    "Input: s = \"leetcode\"\n",
    "Output: 0\n",
    "\n",
    "Example 2:\n",
    "Input: s = \"loveleetcode\"\n",
    "Output: 2\n",
    "\n",
    "Example 3:\n",
    "Input: s = \"aabb\"\n",
    "Output: -1\n",
    "\n",
    "Constraints:\n",
    "a. 1 <= s.length <= 10^5\n",
    "b. s consists of only lowercase English letters."
   ]
  },
  {
   "cell_type": "code",
   "execution_count": 2,
   "id": "5d0d975a",
   "metadata": {},
   "outputs": [
    {
     "name": "stdout",
     "output_type": "stream",
     "text": [
      "0\n",
      "2\n",
      "-1\n"
     ]
    }
   ],
   "source": [
    "def firstUniqChar(s):\n",
    "    # Create a dictionary to store the count of each character\n",
    "    char_count = {}\n",
    "\n",
    "    # Count the occurrences of each character in the string\n",
    "    for char in s:\n",
    "        char_count[char] = char_count.get(char, 0) + 1\n",
    "\n",
    "    # Find the first character with count 1 in the original string\n",
    "    for i, char in enumerate(s):\n",
    "        if char_count[char] == 1:\n",
    "            return i\n",
    "\n",
    "    # If no non-repeating character is found, return -1\n",
    "    return -1\n",
    "\n",
    "# Test the function with the given examples\n",
    "s1 = \"leetcode\"\n",
    "print(firstUniqChar(s1))\n",
    "\n",
    "s2 = \"loveleetcode\"\n",
    "print(firstUniqChar(s2))\n",
    "\n",
    "s3 = \"aabb\"\n",
    "print(firstUniqChar(s3))"
   ]
  }
 ],
 "metadata": {
  "kernelspec": {
   "display_name": "Python 3 (ipykernel)",
   "language": "python",
   "name": "python3"
  },
  "language_info": {
   "codemirror_mode": {
    "name": "ipython",
    "version": 3
   },
   "file_extension": ".py",
   "mimetype": "text/x-python",
   "name": "python",
   "nbconvert_exporter": "python",
   "pygments_lexer": "ipython3",
   "version": "3.10.0"
  }
 },
 "nbformat": 4,
 "nbformat_minor": 5
}
